{
 "cells": [
  {
   "cell_type": "markdown",
   "metadata": {},
   "source": [
    "# MongoDB PyMongo [Tutorial](http://api.mongodb.com/python/current/tutorial.html), [Back to Basics](https://www.mongodb.com/presentations/back-to-basics-introduction-to-mongodb) and [Beyond the Basics](https://www.mongodb.com/presentations/beyond-the-basics-1)"
   ]
  },
  {
   "cell_type": "markdown",
   "metadata": {},
   "source": [
    "## Modules"
   ]
  },
  {
   "cell_type": "code",
   "execution_count": 1,
   "metadata": {
    "collapsed": true
   },
   "outputs": [],
   "source": [
    "import pymongo\n",
    "from pymongo import MongoClient\n",
    "import datetime\n",
    "import pprint\n",
    "from bson.objectid import ObjectId\n",
    "from bson.son import SON"
   ]
  },
  {
   "cell_type": "markdown",
   "metadata": {},
   "source": [
    "## Creating connection, database and collection variables"
   ]
  },
  {
   "cell_type": "code",
   "execution_count": 2,
   "metadata": {
    "collapsed": true
   },
   "outputs": [],
   "source": [
    "client = MongoClient(\"mongodb://localhost:27017/\")\n",
    "db = client[\"test-database\"]\n",
    "posts = db[\"posts\"] # collection"
   ]
  },
  {
   "cell_type": "markdown",
   "metadata": {},
   "source": [
    "## Documents"
   ]
  },
  {
   "cell_type": "markdown",
   "metadata": {},
   "source": [
    "Data in MongoDB is represented (and stored) using JSON-style documents. In PyMongo we use dictionaries to represent documents. As an example, the following dictionary might be used to represent a blog post:"
   ]
  },
  {
   "cell_type": "code",
   "execution_count": 3,
   "metadata": {
    "collapsed": true
   },
   "outputs": [],
   "source": [
    "post = {\"author\": \"Mike\",\n",
    "         \"text\": \"My first blog post!\",\n",
    "         \"tags\": [\"mongodb\", \"python\", \"pymongo\"],\n",
    "         \"date\": datetime.datetime.utcnow()}"
   ]
  },
  {
   "cell_type": "markdown",
   "metadata": {},
   "source": [
    "### Inserting a Document"
   ]
  },
  {
   "cell_type": "code",
   "execution_count": 4,
   "metadata": {},
   "outputs": [
    {
     "data": {
      "text/plain": [
       "ObjectId('594b85dc5069ef619c87206a')"
      ]
     },
     "execution_count": 4,
     "metadata": {},
     "output_type": "execute_result"
    }
   ],
   "source": [
    "post_id = posts.insert_one(post).inserted_id\n",
    "post_id"
   ]
  },
  {
   "cell_type": "markdown",
   "metadata": {},
   "source": [
    "When a document is inserted a special key, *\"_id\"*, is automatically added if the document doesn’t already contain an *\"_id\"* key.\n",
    "\n",
    "After inserting the first document, the posts collection has actually been created on the server. We can verify this by listing all of the collections in our database:"
   ]
  },
  {
   "cell_type": "code",
   "execution_count": 5,
   "metadata": {},
   "outputs": [
    {
     "data": {
      "text/plain": [
       "['posts']"
      ]
     },
     "execution_count": 5,
     "metadata": {},
     "output_type": "execute_result"
    }
   ],
   "source": [
    "db.collection_names(include_system_collections=False)"
   ]
  },
  {
   "cell_type": "markdown",
   "metadata": {},
   "source": [
    "### Bulk Inserts"
   ]
  },
  {
   "cell_type": "markdown",
   "metadata": {},
   "source": [
    "In addition to inserting a single document, we can also perform bulk insert operations, by passing a list as the first argument to *insert_many()*."
   ]
  },
  {
   "cell_type": "code",
   "execution_count": 6,
   "metadata": {},
   "outputs": [
    {
     "data": {
      "text/plain": [
       "[ObjectId('594b85ea5069ef619c87206b'), ObjectId('594b85ea5069ef619c87206c')]"
      ]
     },
     "execution_count": 6,
     "metadata": {},
     "output_type": "execute_result"
    }
   ],
   "source": [
    "new_posts = [{\"author\": \"Mike\",\n",
    "              \"text\": \"Another post!\",\n",
    "              \"tags\": [\"bulk\", \"insert\"],\n",
    "              \"date\": datetime.datetime(2009, 11, 12, 11, 14)},\n",
    "             {\"author\": \"Eliot\",\n",
    "              \"title\": \"MongoDB is fun\",\n",
    "              \"text\": \"and pretty easy too!\",\n",
    "              \"date\": datetime.datetime(2009, 11, 10, 10, 45)}]\n",
    "result = posts.insert_many(new_posts)\n",
    "result.inserted_ids"
   ]
  },
  {
   "cell_type": "markdown",
   "metadata": {},
   "source": [
    "There are a couple of interesting things to note about this example:\n",
    "- The result from *insert_many()* now returns two ObjectId instances, one for each inserted document.\n",
    "- *new_posts[1]* has a different “shape” than the other posts - there is no *\"tags\"* field and we’ve added a new field, *\"title\"*. This is what we mean when we say that MongoDB is *schema-free*."
   ]
  },
  {
   "cell_type": "markdown",
   "metadata": {},
   "source": [
    "### Updating a Document"
   ]
  },
  {
   "cell_type": "code",
   "execution_count": 7,
   "metadata": {},
   "outputs": [
    {
     "data": {
      "text/plain": [
       "<pymongo.results.UpdateResult at 0x109edc8>"
      ]
     },
     "execution_count": 7,
     "metadata": {},
     "output_type": "execute_result"
    }
   ],
   "source": [
    "db.posts.update_many({\"author\":\"Mike\"},\n",
    "                {\"$set\": {\"tags\":[\"new updated tag\", \"mongodb\", \"python\", \"pymongo\"]}})"
   ]
  },
  {
   "cell_type": "markdown",
   "metadata": {},
   "source": [
    "The **$push** operator appends a specified value to an array."
   ]
  },
  {
   "cell_type": "code",
   "execution_count": 8,
   "metadata": {},
   "outputs": [
    {
     "data": {
      "text/plain": [
       "<pymongo.results.UpdateResult at 0x10ae418>"
      ]
     },
     "execution_count": 8,
     "metadata": {},
     "output_type": "execute_result"
    }
   ],
   "source": [
    "db.posts.update_many({\"author\":\"Mike\"},\n",
    "                {\"$push\": {\"tags\":\"last tag\"}})"
   ]
  },
  {
   "cell_type": "code",
   "execution_count": 9,
   "metadata": {},
   "outputs": [
    {
     "data": {
      "text/plain": [
       "{'_id': ObjectId('59459eba5069ef52a894c794'),\n",
       " 'author': 'Mike',\n",
       " 'date': datetime.datetime(2017, 6, 17, 21, 27, 7, 907000),\n",
       " 'tags': ['new updated tag', 'mongodb', 'python', 'pymongo', 'last tag'],\n",
       " 'text': 'My first blog post!'}"
      ]
     },
     "execution_count": 9,
     "metadata": {},
     "output_type": "execute_result"
    }
   ],
   "source": [
    "db.posts.find_one({\"author\": \"Mike\"})"
   ]
  },
  {
   "cell_type": "markdown",
   "metadata": {},
   "source": [
    "## Querying"
   ]
  },
  {
   "cell_type": "markdown",
   "metadata": {},
   "source": [
    "### Getting a Single Document With find_one()"
   ]
  },
  {
   "cell_type": "markdown",
   "metadata": {},
   "source": [
    "The most basic type of query that can be performed in MongoDB is find_one(). This method returns a single document matching a query (or None if there are no matches). It is useful when you know there is only one matching document, or are only interested in the first match."
   ]
  },
  {
   "cell_type": "code",
   "execution_count": 10,
   "metadata": {
    "scrolled": true
   },
   "outputs": [
    {
     "data": {
      "text/plain": [
       "{'_id': ObjectId('59459eba5069ef52a894c794'),\n",
       " 'author': 'Mike',\n",
       " 'date': datetime.datetime(2017, 6, 17, 21, 27, 7, 907000),\n",
       " 'tags': ['new updated tag', 'mongodb', 'python', 'pymongo', 'last tag'],\n",
       " 'text': 'My first blog post!'}"
      ]
     },
     "execution_count": 10,
     "metadata": {},
     "output_type": "execute_result"
    }
   ],
   "source": [
    "posts.find_one()"
   ]
  },
  {
   "cell_type": "code",
   "execution_count": 11,
   "metadata": {},
   "outputs": [
    {
     "data": {
      "text/plain": [
       "{'_id': ObjectId('59459eba5069ef52a894c794'),\n",
       " 'author': 'Mike',\n",
       " 'date': datetime.datetime(2017, 6, 17, 21, 27, 7, 907000),\n",
       " 'tags': ['new updated tag', 'mongodb', 'python', 'pymongo', 'last tag'],\n",
       " 'text': 'My first blog post!'}"
      ]
     },
     "execution_count": 11,
     "metadata": {},
     "output_type": "execute_result"
    }
   ],
   "source": [
    "posts.find_one({\"author\": \"Mike\"})"
   ]
  },
  {
   "cell_type": "code",
   "execution_count": 12,
   "metadata": {},
   "outputs": [
    {
     "data": {
      "text/plain": [
       "{'_id': ObjectId('594b85ea5069ef619c87206c'),\n",
       " 'author': 'Eliot',\n",
       " 'date': datetime.datetime(2009, 11, 10, 10, 45),\n",
       " 'text': 'and pretty easy too!',\n",
       " 'title': 'MongoDB is fun'}"
      ]
     },
     "execution_count": 12,
     "metadata": {},
     "output_type": "execute_result"
    }
   ],
   "source": [
    "posts.find_one({\"author\": \"Eliot\"}) # No result"
   ]
  },
  {
   "cell_type": "markdown",
   "metadata": {},
   "source": [
    "#### Projection\n",
    "Use $ in the [projection](https://docs.mongodb.com/manual/reference/glossary/#term-projection) document of the find() method or the findOne() method when you only need one particular array element in selected documents."
   ]
  },
  {
   "cell_type": "code",
   "execution_count": 13,
   "metadata": {},
   "outputs": [
    {
     "data": {
      "text/plain": [
       "{'_id': ObjectId('59459eba5069ef52a894c794'),\n",
       " 'author': 'Mike',\n",
       " 'tags': ['new updated tag', 'mongodb', 'python', 'pymongo', 'last tag']}"
      ]
     },
     "execution_count": 13,
     "metadata": {},
     "output_type": "execute_result"
    }
   ],
   "source": [
    "posts.find_one( {}, { \"_id\" : 1, \"author\" : 1, \"tags\" : 1 } )"
   ]
  },
  {
   "cell_type": "markdown",
   "metadata": {},
   "source": [
    "### Querying By ObjectId"
   ]
  },
  {
   "cell_type": "code",
   "execution_count": 14,
   "metadata": {},
   "outputs": [
    {
     "data": {
      "text/plain": [
       "{'_id': ObjectId('594b85dc5069ef619c87206a'),\n",
       " 'author': 'Mike',\n",
       " 'date': datetime.datetime(2017, 6, 22, 8, 54, 51, 590000),\n",
       " 'tags': ['new updated tag', 'mongodb', 'python', 'pymongo', 'last tag'],\n",
       " 'text': 'My first blog post!'}"
      ]
     },
     "execution_count": 14,
     "metadata": {},
     "output_type": "execute_result"
    }
   ],
   "source": [
    "posts.find_one({\"_id\": post_id})"
   ]
  },
  {
   "cell_type": "markdown",
   "metadata": {},
   "source": [
    "*ObjectId* is not the same as its string representation:"
   ]
  },
  {
   "cell_type": "code",
   "execution_count": 15,
   "metadata": {
    "collapsed": true
   },
   "outputs": [],
   "source": [
    "post_id_as_str = str(post_id)\n",
    "posts.find_one({\"_id\": post_id_as_str}) # No result"
   ]
  },
  {
   "cell_type": "markdown",
   "metadata": {},
   "source": [
    "Even we see the same output for both strings:"
   ]
  },
  {
   "cell_type": "code",
   "execution_count": 16,
   "metadata": {},
   "outputs": [
    {
     "name": "stdout",
     "output_type": "stream",
     "text": [
      "594b85dc5069ef619c87206a\n",
      "594b85dc5069ef619c87206a\n"
     ]
    }
   ],
   "source": [
    "print(post_id)\n",
    "print(post_id_as_str)"
   ]
  },
  {
   "cell_type": "markdown",
   "metadata": {},
   "source": [
    "A common task in web applications is to get an ObjectId from the request URL and find the matching document. It’s necessary in this case to **convert the ObjectId from a string** before passing it to *find_one*:"
   ]
  },
  {
   "cell_type": "code",
   "execution_count": 17,
   "metadata": {
    "collapsed": true
   },
   "outputs": [],
   "source": [
    "# The web framework gets post_id from the URL and passes it as a string\n",
    "def get(post_id):\n",
    "    # Convert from string to ObjectId:\n",
    "    document = posts.find_one({'_id': ObjectId(post_id)})\n",
    "    return document"
   ]
  },
  {
   "cell_type": "code",
   "execution_count": 18,
   "metadata": {},
   "outputs": [
    {
     "data": {
      "text/plain": [
       "{'_id': ObjectId('594b85dc5069ef619c87206a'),\n",
       " 'author': 'Mike',\n",
       " 'date': datetime.datetime(2017, 6, 22, 8, 54, 51, 590000),\n",
       " 'tags': ['new updated tag', 'mongodb', 'python', 'pymongo', 'last tag'],\n",
       " 'text': 'My first blog post!'}"
      ]
     },
     "execution_count": 18,
     "metadata": {},
     "output_type": "execute_result"
    }
   ],
   "source": [
    "get(\"594b85dc5069ef619c87206a\") # Now it returns object"
   ]
  },
  {
   "cell_type": "markdown",
   "metadata": {},
   "source": [
    "### Querying for More Than One Document"
   ]
  },
  {
   "cell_type": "markdown",
   "metadata": {},
   "source": [
    "To get more than a single document as the result of a query we use the find() method. find() returns a Cursor instance, which allows us to iterate over all matching documents:"
   ]
  },
  {
   "cell_type": "code",
   "execution_count": 19,
   "metadata": {},
   "outputs": [
    {
     "name": "stdout",
     "output_type": "stream",
     "text": [
      "{'_id': ObjectId('59459eba5069ef52a894c794'),\n",
      " 'author': 'Mike',\n",
      " 'date': datetime.datetime(2017, 6, 17, 21, 27, 7, 907000),\n",
      " 'tags': ['new updated tag', 'mongodb', 'python', 'pymongo', 'last tag'],\n",
      " 'text': 'My first blog post!'}\n",
      "{'_id': ObjectId('594b85dc5069ef619c87206a'),\n",
      " 'author': 'Mike',\n",
      " 'date': datetime.datetime(2017, 6, 22, 8, 54, 51, 590000),\n",
      " 'tags': ['new updated tag', 'mongodb', 'python', 'pymongo', 'last tag'],\n",
      " 'text': 'My first blog post!'}\n",
      "{'_id': ObjectId('594b85ea5069ef619c87206b'),\n",
      " 'author': 'Mike',\n",
      " 'date': datetime.datetime(2009, 11, 12, 11, 14),\n",
      " 'tags': ['new updated tag', 'mongodb', 'python', 'pymongo', 'last tag'],\n",
      " 'text': 'Another post!'}\n",
      "{'_id': ObjectId('594b85ea5069ef619c87206c'),\n",
      " 'author': 'Eliot',\n",
      " 'date': datetime.datetime(2009, 11, 10, 10, 45),\n",
      " 'text': 'and pretty easy too!',\n",
      " 'title': 'MongoDB is fun'}\n"
     ]
    }
   ],
   "source": [
    "for post in posts.find():\n",
    "    pprint.pprint(post)"
   ]
  },
  {
   "cell_type": "code",
   "execution_count": 20,
   "metadata": {},
   "outputs": [
    {
     "name": "stdout",
     "output_type": "stream",
     "text": [
      "{'_id': ObjectId('59459eba5069ef52a894c794'),\n",
      " 'author': 'Mike',\n",
      " 'date': datetime.datetime(2017, 6, 17, 21, 27, 7, 907000),\n",
      " 'tags': ['new updated tag', 'mongodb', 'python', 'pymongo', 'last tag'],\n",
      " 'text': 'My first blog post!'}\n",
      "{'_id': ObjectId('594b85dc5069ef619c87206a'),\n",
      " 'author': 'Mike',\n",
      " 'date': datetime.datetime(2017, 6, 22, 8, 54, 51, 590000),\n",
      " 'tags': ['new updated tag', 'mongodb', 'python', 'pymongo', 'last tag'],\n",
      " 'text': 'My first blog post!'}\n",
      "{'_id': ObjectId('594b85ea5069ef619c87206b'),\n",
      " 'author': 'Mike',\n",
      " 'date': datetime.datetime(2009, 11, 12, 11, 14),\n",
      " 'tags': ['new updated tag', 'mongodb', 'python', 'pymongo', 'last tag'],\n",
      " 'text': 'Another post!'}\n"
     ]
    }
   ],
   "source": [
    "for post in posts.find({\"author\": \"Mike\"}):\n",
    "    pprint.pprint(post)"
   ]
  },
  {
   "cell_type": "markdown",
   "metadata": {},
   "source": [
    "### Counting"
   ]
  },
  {
   "cell_type": "code",
   "execution_count": 21,
   "metadata": {},
   "outputs": [
    {
     "data": {
      "text/plain": [
       "4"
      ]
     },
     "execution_count": 21,
     "metadata": {},
     "output_type": "execute_result"
    }
   ],
   "source": [
    "posts.count()"
   ]
  },
  {
   "cell_type": "code",
   "execution_count": 22,
   "metadata": {},
   "outputs": [
    {
     "data": {
      "text/plain": [
       "3"
      ]
     },
     "execution_count": 22,
     "metadata": {},
     "output_type": "execute_result"
    }
   ],
   "source": [
    "posts.find({\"author\": \"Mike\"}).count()"
   ]
  },
  {
   "cell_type": "markdown",
   "metadata": {},
   "source": [
    "### Range Queries"
   ]
  },
  {
   "cell_type": "markdown",
   "metadata": {},
   "source": [
    "MongoDB supports many different types of [advanced queries](http://www.mongodb.org/display/DOCS/Advanced+Queries). As an example, lets perform a query where we limit results to posts older than a certain date, but also sort the results by author.\n",
    "\n",
    "Here we use the special *$lt* operator to do a range query, and also call *sort()* to sort the results by author:\n"
   ]
  },
  {
   "cell_type": "code",
   "execution_count": 23,
   "metadata": {},
   "outputs": [
    {
     "name": "stdout",
     "output_type": "stream",
     "text": [
      "{'_id': ObjectId('594b85ea5069ef619c87206c'),\n",
      " 'author': 'Eliot',\n",
      " 'date': datetime.datetime(2009, 11, 10, 10, 45),\n",
      " 'text': 'and pretty easy too!',\n",
      " 'title': 'MongoDB is fun'}\n",
      "{'_id': ObjectId('594b85ea5069ef619c87206b'),\n",
      " 'author': 'Mike',\n",
      " 'date': datetime.datetime(2009, 11, 12, 11, 14),\n",
      " 'tags': ['new updated tag', 'mongodb', 'python', 'pymongo', 'last tag'],\n",
      " 'text': 'Another post!'}\n"
     ]
    }
   ],
   "source": [
    "d = datetime.datetime(2009, 11, 12, 12)\n",
    "\n",
    "for post in posts.find({\"date\": {\"$lt\": d}}).sort(\"author\"):\n",
    "    pprint.pprint(post)"
   ]
  },
  {
   "cell_type": "markdown",
   "metadata": {},
   "source": [
    "### Explain plan"
   ]
  },
  {
   "cell_type": "markdown",
   "metadata": {},
   "source": [
    "Provides information on the query plan for the *db.collection.find()* method."
   ]
  },
  {
   "cell_type": "code",
   "execution_count": 24,
   "metadata": {
    "scrolled": true
   },
   "outputs": [
    {
     "data": {
      "text/plain": [
       "{'executionStats': {'allPlansExecution': [],\n",
       "  'executionStages': {'advanced': 2,\n",
       "   'executionTimeMillisEstimate': 0,\n",
       "   'inputStage': {'advanced': 2,\n",
       "    'executionTimeMillisEstimate': 0,\n",
       "    'inputStage': {'advanced': 2,\n",
       "     'direction': 'forward',\n",
       "     'docsExamined': 4,\n",
       "     'executionTimeMillisEstimate': 0,\n",
       "     'filter': {'date': {'$lt': datetime.datetime(2009, 11, 12, 12, 0)}},\n",
       "     'invalidates': 0,\n",
       "     'isEOF': 1,\n",
       "     'nReturned': 2,\n",
       "     'needTime': 3,\n",
       "     'needYield': 0,\n",
       "     'restoreState': 0,\n",
       "     'saveState': 0,\n",
       "     'stage': 'COLLSCAN',\n",
       "     'works': 6},\n",
       "    'invalidates': 0,\n",
       "    'isEOF': 1,\n",
       "    'nReturned': 2,\n",
       "    'needTime': 4,\n",
       "    'needYield': 0,\n",
       "    'restoreState': 0,\n",
       "    'saveState': 0,\n",
       "    'stage': 'SORT_KEY_GENERATOR',\n",
       "    'works': 7},\n",
       "   'invalidates': 0,\n",
       "   'isEOF': 1,\n",
       "   'memLimit': 33554432,\n",
       "   'memUsage': 298,\n",
       "   'nReturned': 2,\n",
       "   'needTime': 7,\n",
       "   'needYield': 0,\n",
       "   'restoreState': 0,\n",
       "   'saveState': 0,\n",
       "   'sortPattern': {'author': 1},\n",
       "   'stage': 'SORT',\n",
       "   'works': 10},\n",
       "  'executionSuccess': True,\n",
       "  'executionTimeMillis': 1,\n",
       "  'nReturned': 2,\n",
       "  'totalDocsExamined': 4,\n",
       "  'totalKeysExamined': 0},\n",
       " 'ok': 1.0,\n",
       " 'queryPlanner': {'indexFilterSet': False,\n",
       "  'namespace': 'test-database.posts',\n",
       "  'parsedQuery': {'date': {'$lt': datetime.datetime(2009, 11, 12, 12, 0)}},\n",
       "  'plannerVersion': 1,\n",
       "  'rejectedPlans': [],\n",
       "  'winningPlan': {'inputStage': {'inputStage': {'direction': 'forward',\n",
       "     'filter': {'date': {'$lt': datetime.datetime(2009, 11, 12, 12, 0)}},\n",
       "     'stage': 'COLLSCAN'},\n",
       "    'stage': 'SORT_KEY_GENERATOR'},\n",
       "   'sortPattern': {'author': 1},\n",
       "   'stage': 'SORT'}},\n",
       " 'serverInfo': {'gitVersion': '888390515874a9debd1b6c5d36559ca86b44babd',\n",
       "  'host': 'PC-Ruben',\n",
       "  'port': 27017,\n",
       "  'version': '3.4.4'}}"
      ]
     },
     "execution_count": 24,
     "metadata": {},
     "output_type": "execute_result"
    }
   ],
   "source": [
    "posts.find({\"date\": {\"$lt\": d}}).sort(\"author\").explain()"
   ]
  },
  {
   "cell_type": "code",
   "execution_count": 25,
   "metadata": {
    "scrolled": true
   },
   "outputs": [
    {
     "data": {
      "text/plain": [
       "{'allPlansExecution': [],\n",
       " 'executionStages': {'advanced': 2,\n",
       "  'executionTimeMillisEstimate': 0,\n",
       "  'inputStage': {'advanced': 2,\n",
       "   'executionTimeMillisEstimate': 0,\n",
       "   'inputStage': {'advanced': 2,\n",
       "    'direction': 'forward',\n",
       "    'docsExamined': 4,\n",
       "    'executionTimeMillisEstimate': 0,\n",
       "    'filter': {'date': {'$lt': datetime.datetime(2009, 11, 12, 12, 0)}},\n",
       "    'invalidates': 0,\n",
       "    'isEOF': 1,\n",
       "    'nReturned': 2,\n",
       "    'needTime': 3,\n",
       "    'needYield': 0,\n",
       "    'restoreState': 0,\n",
       "    'saveState': 0,\n",
       "    'stage': 'COLLSCAN',\n",
       "    'works': 6},\n",
       "   'invalidates': 0,\n",
       "   'isEOF': 1,\n",
       "   'nReturned': 2,\n",
       "   'needTime': 4,\n",
       "   'needYield': 0,\n",
       "   'restoreState': 0,\n",
       "   'saveState': 0,\n",
       "   'stage': 'SORT_KEY_GENERATOR',\n",
       "   'works': 7},\n",
       "  'invalidates': 0,\n",
       "  'isEOF': 1,\n",
       "  'memLimit': 33554432,\n",
       "  'memUsage': 298,\n",
       "  'nReturned': 2,\n",
       "  'needTime': 7,\n",
       "  'needYield': 0,\n",
       "  'restoreState': 0,\n",
       "  'saveState': 0,\n",
       "  'sortPattern': {'author': 1},\n",
       "  'stage': 'SORT',\n",
       "  'works': 10},\n",
       " 'executionSuccess': True,\n",
       " 'executionTimeMillis': 0,\n",
       " 'nReturned': 2,\n",
       " 'totalDocsExamined': 4,\n",
       " 'totalKeysExamined': 0}"
      ]
     },
     "execution_count": 25,
     "metadata": {},
     "output_type": "execute_result"
    }
   ],
   "source": [
    "# see only the executionStats\n",
    "posts.find({\"date\": {\"$lt\": d}}).sort(\"author\").explain()['executionStats']"
   ]
  },
  {
   "cell_type": "markdown",
   "metadata": {},
   "source": [
    "### Deleting documents/collections"
   ]
  },
  {
   "cell_type": "markdown",
   "metadata": {},
   "source": [
    "Delete documents wich autor is Mike:"
   ]
  },
  {
   "cell_type": "code",
   "execution_count": 26,
   "metadata": {},
   "outputs": [
    {
     "data": {
      "text/plain": [
       "<pymongo.results.DeleteResult at 0x6c83418>"
      ]
     },
     "execution_count": 26,
     "metadata": {},
     "output_type": "execute_result"
    }
   ],
   "source": [
    "db.posts.delete_many({\"author\" : \"Eliot\"})"
   ]
  },
  {
   "cell_type": "code",
   "execution_count": 27,
   "metadata": {},
   "outputs": [
    {
     "data": {
      "text/plain": [
       "{'_id': ObjectId('59459eba5069ef52a894c794'),\n",
       " 'author': 'Mike',\n",
       " 'date': datetime.datetime(2017, 6, 17, 21, 27, 7, 907000),\n",
       " 'tags': ['new updated tag', 'mongodb', 'python', 'pymongo', 'last tag'],\n",
       " 'text': 'My first blog post!'}"
      ]
     },
     "execution_count": 27,
     "metadata": {},
     "output_type": "execute_result"
    }
   ],
   "source": [
    "posts.find_one()"
   ]
  },
  {
   "cell_type": "markdown",
   "metadata": {},
   "source": [
    "Delete all documents:"
   ]
  },
  {
   "cell_type": "code",
   "execution_count": 28,
   "metadata": {},
   "outputs": [
    {
     "data": {
      "text/plain": [
       "<pymongo.results.DeleteResult at 0x6c83620>"
      ]
     },
     "execution_count": 28,
     "metadata": {},
     "output_type": "execute_result"
    }
   ],
   "source": [
    "db.posts.delete_many({})"
   ]
  },
  {
   "cell_type": "code",
   "execution_count": 29,
   "metadata": {
    "collapsed": true
   },
   "outputs": [],
   "source": [
    "posts.find_one() # no result"
   ]
  },
  {
   "cell_type": "code",
   "execution_count": 30,
   "metadata": {
    "scrolled": true
   },
   "outputs": [
    {
     "data": {
      "text/plain": [
       "['posts']"
      ]
     },
     "execution_count": 30,
     "metadata": {},
     "output_type": "execute_result"
    }
   ],
   "source": [
    "# at the moment we have posts collection\n",
    "db.collection_names(include_system_collections=False)"
   ]
  },
  {
   "cell_type": "code",
   "execution_count": 31,
   "metadata": {
    "collapsed": true
   },
   "outputs": [],
   "source": [
    "# Delete posts collection\n",
    "db.posts.drop()"
   ]
  },
  {
   "cell_type": "code",
   "execution_count": 32,
   "metadata": {},
   "outputs": [
    {
     "data": {
      "text/plain": [
       "[]"
      ]
     },
     "execution_count": 32,
     "metadata": {},
     "output_type": "execute_result"
    }
   ],
   "source": [
    "# now we don't have posts collection\n",
    "db.collection_names(include_system_collections=False)"
   ]
  },
  {
   "cell_type": "markdown",
   "metadata": {},
   "source": [
    "### Indexing"
   ]
  },
  {
   "cell_type": "markdown",
   "metadata": {},
   "source": [
    "Adding [indexes](https://docs.mongodb.com/manual/indexes/) can help accelerate certain queries and can also add additional functionality to querying and storing documents. In this example, we’ll demonstrate how to create a [unique index](http://docs.mongodb.org/manual/core/index-unique/) on a key that rejects documents whose value for that key already exists in the index.\n",
    "\n",
    "First, we’ll need to create the index:"
   ]
  },
  {
   "cell_type": "code",
   "execution_count": 33,
   "metadata": {
    "collapsed": true
   },
   "outputs": [],
   "source": [
    "result = db.profiles.create_index([(\"user_id\", pymongo.ASCENDING)], unique=True)"
   ]
  },
  {
   "cell_type": "markdown",
   "metadata": {},
   "source": [
    "Now we can see the indexes:"
   ]
  },
  {
   "cell_type": "code",
   "execution_count": 34,
   "metadata": {},
   "outputs": [
    {
     "data": {
      "text/plain": [
       "{'_id_': {'key': [('_id', 1)], 'ns': 'test-database.profiles', 'v': 2},\n",
       " 'user_id_1': {'key': [('user_id', 1)],\n",
       "  'ns': 'test-database.profiles',\n",
       "  'unique': True,\n",
       "  'v': 2}}"
      ]
     },
     "execution_count": 34,
     "metadata": {},
     "output_type": "execute_result"
    }
   ],
   "source": [
    "db.profiles.index_information()"
   ]
  },
  {
   "cell_type": "markdown",
   "metadata": {},
   "source": [
    "Showing only IDs of indexes:"
   ]
  },
  {
   "cell_type": "code",
   "execution_count": 35,
   "metadata": {},
   "outputs": [
    {
     "data": {
      "text/plain": [
       "['_id_', 'user_id_1']"
      ]
     },
     "execution_count": 35,
     "metadata": {},
     "output_type": "execute_result"
    }
   ],
   "source": [
    "sorted(list(db.profiles.index_information()))"
   ]
  },
  {
   "cell_type": "markdown",
   "metadata": {},
   "source": [
    "Notice that we have two indexes now: one is the index on *_id* that MongoDB creates automatically, and the other is the index on *user_id* we just created."
   ]
  },
  {
   "cell_type": "code",
   "execution_count": 36,
   "metadata": {
    "collapsed": true
   },
   "outputs": [],
   "source": [
    "user_profiles = [\n",
    "    {\"user_id\": 211, \"name\": \"Luke\"},\n",
    "    {\"user_id\": 212, \"name\": \"Ziltoid\"}]\n",
    "\n",
    "result = db.profiles.insert_many(user_profiles)"
   ]
  },
  {
   "cell_type": "markdown",
   "metadata": {},
   "source": [
    "The index prevents us from inserting a document whose *user_id* is already in the collection:"
   ]
  },
  {
   "cell_type": "code",
   "execution_count": 37,
   "metadata": {
    "collapsed": true
   },
   "outputs": [],
   "source": [
    "new_profile = {\"user_id\": 213, \"name\": \"Drew\"}\n",
    "duplicate_profile = {\"user_id\": 212, \"name\": \"Tommy\"}"
   ]
  },
  {
   "cell_type": "code",
   "execution_count": 38,
   "metadata": {
    "collapsed": true
   },
   "outputs": [],
   "source": [
    "result = db.profiles.insert_one(new_profile)  # This is fine."
   ]
  },
  {
   "cell_type": "code",
   "execution_count": 39,
   "metadata": {
    "scrolled": true
   },
   "outputs": [
    {
     "ename": "DuplicateKeyError",
     "evalue": "E11000 duplicate key error collection: test-database.profiles index: user_id_1 dup key: { : 212 }",
     "output_type": "error",
     "traceback": [
      "\u001b[1;31m---------------------------------------------------------------------------\u001b[0m",
      "\u001b[1;31mDuplicateKeyError\u001b[0m                         Traceback (most recent call last)",
      "\u001b[1;32m<ipython-input-39-4191248359c9>\u001b[0m in \u001b[0;36m<module>\u001b[1;34m()\u001b[0m\n\u001b[1;32m----> 1\u001b[1;33m \u001b[0mresult\u001b[0m \u001b[1;33m=\u001b[0m \u001b[0mdb\u001b[0m\u001b[1;33m.\u001b[0m\u001b[0mprofiles\u001b[0m\u001b[1;33m.\u001b[0m\u001b[0minsert_one\u001b[0m\u001b[1;33m(\u001b[0m\u001b[0mduplicate_profile\u001b[0m\u001b[1;33m)\u001b[0m \u001b[1;31m# This will DuplicateKeyError\u001b[0m\u001b[1;33m\u001b[0m\u001b[0m\n\u001b[0m",
      "\u001b[1;32mc:\\python\\lib\\site-packages\\pymongo\\collection.py\u001b[0m in \u001b[0;36minsert_one\u001b[1;34m(self, document, bypass_document_validation)\u001b[0m\n\u001b[0;32m    655\u001b[0m             return InsertOneResult(\n\u001b[0;32m    656\u001b[0m                 self._insert(sock_info, document,\n\u001b[1;32m--> 657\u001b[1;33m                              bypass_doc_val=bypass_document_validation),\n\u001b[0m\u001b[0;32m    658\u001b[0m                 self.write_concern.acknowledged)\n\u001b[0;32m    659\u001b[0m \u001b[1;33m\u001b[0m\u001b[0m\n",
      "\u001b[1;32mc:\\python\\lib\\site-packages\\pymongo\\collection.py\u001b[0m in \u001b[0;36m_insert\u001b[1;34m(self, sock_info, docs, ordered, check_keys, manipulate, write_concern, op_id, bypass_doc_val)\u001b[0m\n\u001b[0;32m    560\u001b[0m             return self._insert_one(\n\u001b[0;32m    561\u001b[0m                 \u001b[0msock_info\u001b[0m\u001b[1;33m,\u001b[0m \u001b[0mdocs\u001b[0m\u001b[1;33m,\u001b[0m \u001b[0mordered\u001b[0m\u001b[1;33m,\u001b[0m\u001b[1;33m\u001b[0m\u001b[0m\n\u001b[1;32m--> 562\u001b[1;33m                 check_keys, manipulate, write_concern, op_id, bypass_doc_val)\n\u001b[0m\u001b[0;32m    563\u001b[0m \u001b[1;33m\u001b[0m\u001b[0m\n\u001b[0;32m    564\u001b[0m         \u001b[0mids\u001b[0m \u001b[1;33m=\u001b[0m \u001b[1;33m[\u001b[0m\u001b[1;33m]\u001b[0m\u001b[1;33m\u001b[0m\u001b[0m\n",
      "\u001b[1;32mc:\\python\\lib\\site-packages\\pymongo\\collection.py\u001b[0m in \u001b[0;36m_insert_one\u001b[1;34m(self, sock_info, doc, ordered, check_keys, manipulate, write_concern, op_id, bypass_doc_val)\u001b[0m\n\u001b[0;32m    542\u001b[0m                 \u001b[0mcodec_options\u001b[0m\u001b[1;33m=\u001b[0m\u001b[0mself\u001b[0m\u001b[1;33m.\u001b[0m\u001b[0m__write_response_codec_options\u001b[0m\u001b[1;33m,\u001b[0m\u001b[1;33m\u001b[0m\u001b[0m\n\u001b[0;32m    543\u001b[0m                 check_keys=check_keys)\n\u001b[1;32m--> 544\u001b[1;33m             \u001b[0m_check_write_command_response\u001b[0m\u001b[1;33m(\u001b[0m\u001b[1;33m[\u001b[0m\u001b[1;33m(\u001b[0m\u001b[1;36m0\u001b[0m\u001b[1;33m,\u001b[0m \u001b[0mresult\u001b[0m\u001b[1;33m)\u001b[0m\u001b[1;33m]\u001b[0m\u001b[1;33m)\u001b[0m\u001b[1;33m\u001b[0m\u001b[0m\n\u001b[0m\u001b[0;32m    545\u001b[0m         \u001b[1;32melse\u001b[0m\u001b[1;33m:\u001b[0m\u001b[1;33m\u001b[0m\u001b[0m\n\u001b[0;32m    546\u001b[0m             \u001b[1;31m# Legacy OP_INSERT.\u001b[0m\u001b[1;33m\u001b[0m\u001b[1;33m\u001b[0m\u001b[0m\n",
      "\u001b[1;32mc:\\python\\lib\\site-packages\\pymongo\\helpers.py\u001b[0m in \u001b[0;36m_check_write_command_response\u001b[1;34m(results)\u001b[0m\n\u001b[0;32m    312\u001b[0m             \u001b[0merror\u001b[0m\u001b[1;33m[\u001b[0m\u001b[1;34m\"index\"\u001b[0m\u001b[1;33m]\u001b[0m \u001b[1;33m+=\u001b[0m \u001b[0moffset\u001b[0m\u001b[1;33m\u001b[0m\u001b[0m\n\u001b[0;32m    313\u001b[0m             \u001b[1;32mif\u001b[0m \u001b[0merror\u001b[0m\u001b[1;33m.\u001b[0m\u001b[0mget\u001b[0m\u001b[1;33m(\u001b[0m\u001b[1;34m\"code\"\u001b[0m\u001b[1;33m)\u001b[0m \u001b[1;33m==\u001b[0m \u001b[1;36m11000\u001b[0m\u001b[1;33m:\u001b[0m\u001b[1;33m\u001b[0m\u001b[0m\n\u001b[1;32m--> 314\u001b[1;33m                 \u001b[1;32mraise\u001b[0m \u001b[0mDuplicateKeyError\u001b[0m\u001b[1;33m(\u001b[0m\u001b[0merror\u001b[0m\u001b[1;33m.\u001b[0m\u001b[0mget\u001b[0m\u001b[1;33m(\u001b[0m\u001b[1;34m\"errmsg\"\u001b[0m\u001b[1;33m)\u001b[0m\u001b[1;33m,\u001b[0m \u001b[1;36m11000\u001b[0m\u001b[1;33m,\u001b[0m \u001b[0merror\u001b[0m\u001b[1;33m)\u001b[0m\u001b[1;33m\u001b[0m\u001b[0m\n\u001b[0m\u001b[0;32m    315\u001b[0m             \u001b[1;32mraise\u001b[0m \u001b[0mWriteError\u001b[0m\u001b[1;33m(\u001b[0m\u001b[0merror\u001b[0m\u001b[1;33m.\u001b[0m\u001b[0mget\u001b[0m\u001b[1;33m(\u001b[0m\u001b[1;34m\"errmsg\"\u001b[0m\u001b[1;33m)\u001b[0m\u001b[1;33m,\u001b[0m \u001b[0merror\u001b[0m\u001b[1;33m.\u001b[0m\u001b[0mget\u001b[0m\u001b[1;33m(\u001b[0m\u001b[1;34m\"code\"\u001b[0m\u001b[1;33m)\u001b[0m\u001b[1;33m,\u001b[0m \u001b[0merror\u001b[0m\u001b[1;33m)\u001b[0m\u001b[1;33m\u001b[0m\u001b[0m\n\u001b[0;32m    316\u001b[0m         \u001b[1;32melse\u001b[0m\u001b[1;33m:\u001b[0m\u001b[1;33m\u001b[0m\u001b[0m\n",
      "\u001b[1;31mDuplicateKeyError\u001b[0m: E11000 duplicate key error collection: test-database.profiles index: user_id_1 dup key: { : 212 }"
     ]
    }
   ],
   "source": [
    "result = db.profiles.insert_one(duplicate_profile) # This will DuplicateKeyError"
   ]
  },
  {
   "cell_type": "markdown",
   "metadata": {},
   "source": [
    "Now we will **drop** the indexes:"
   ]
  },
  {
   "cell_type": "code",
   "execution_count": 40,
   "metadata": {
    "collapsed": true
   },
   "outputs": [],
   "source": [
    "db.profiles.drop_indexes()"
   ]
  },
  {
   "cell_type": "markdown",
   "metadata": {},
   "source": [
    "Now we don't see *user_id_1* index"
   ]
  },
  {
   "cell_type": "code",
   "execution_count": 41,
   "metadata": {},
   "outputs": [
    {
     "data": {
      "text/plain": [
       "['_id_']"
      ]
     },
     "execution_count": 41,
     "metadata": {},
     "output_type": "execute_result"
    }
   ],
   "source": [
    "sorted(list(db.profiles.index_information()))"
   ]
  },
  {
   "cell_type": "markdown",
   "metadata": {},
   "source": [
    "## Geospatial Indexes"
   ]
  },
  {
   "cell_type": "markdown",
   "metadata": {},
   "source": [
    "### Coordinates"
   ]
  },
  {
   "cell_type": "markdown",
   "metadata": {
    "collapsed": true
   },
   "source": [
    "- Coordinates in MongoDB are stored on Longitude/Latitude order\n",
    "- Coordinates in Google are stored in Latitude/Longitude order"
   ]
  },
  {
   "cell_type": "markdown",
   "metadata": {},
   "source": [
    "### Connecting to another database"
   ]
  },
  {
   "cell_type": "code",
   "execution_count": 42,
   "metadata": {
    "collapsed": true
   },
   "outputs": [],
   "source": [
    "client = MongoClient(\"mongodb://localhost:27017/\")\n",
    "dbgeo = client[\"geo\"]\n",
    "polygons = dbgeo[\"polygons\"] # collection"
   ]
  },
  {
   "cell_type": "markdown",
   "metadata": {
    "collapsed": true
   },
   "source": [
    "### Inserting test case and creating geospatial index"
   ]
  },
  {
   "cell_type": "code",
   "execution_count": 43,
   "metadata": {
    "collapsed": true
   },
   "outputs": [],
   "source": [
    "# poly1 will be our reference polygon\n",
    "poly1 = { \"type\" : \"Polygon\", \"coordinates\" : [[[0, 0], [3, 0], [0, 3], [0, 0]]] }\n",
    "\n",
    "# poly2 is a smaller triangle inside poly1\n",
    "poly2 = { \"type\" : \"Polygon\", \"coordinates\" : [[[1, 1], [2, 1], [1, 2], [1, 1]]] }\n",
    "# poly3 is poly1 flipped around its \"vertical\" edge, then bumped over one unit\n",
    "# so it intersects poly1 but is not contained in it\n",
    "poly3 = { \"type\" : \"Polygon\", \"coordinates\" : [[[1, 0], [-2, 0], [1, 3], [1, 0]]] }"
   ]
  },
  {
   "cell_type": "code",
   "execution_count": 44,
   "metadata": {
    "scrolled": true
   },
   "outputs": [
    {
     "data": {
      "text/plain": [
       "<pymongo.results.InsertOneResult at 0xe04dc8>"
      ]
     },
     "execution_count": 44,
     "metadata": {},
     "output_type": "execute_result"
    }
   ],
   "source": [
    "# as poly1 is our reference we will only insert poly2 and poly3\n",
    "dbgeo.polygons.insert_one({ \"loc\" : poly2 })\n",
    "dbgeo.polygons.insert_one({ \"loc\" : poly3 })"
   ]
  },
  {
   "cell_type": "code",
   "execution_count": 45,
   "metadata": {},
   "outputs": [
    {
     "data": {
      "text/plain": [
       "'loc_2dsphere'"
      ]
     },
     "execution_count": 45,
     "metadata": {},
     "output_type": "execute_result"
    }
   ],
   "source": [
    "# Create index\n",
    "dbgeo.polygons.create_index([(\"loc\", \"2dsphere\")])"
   ]
  },
  {
   "cell_type": "markdown",
   "metadata": {},
   "source": [
    "### Importing, loading datasets and creating geospatial index"
   ]
  },
  {
   "cell_type": "markdown",
   "metadata": {},
   "source": [
    "Datasets: [neighborhoods](https://raw.githubusercontent.com/mongodb/docs-assets/geospatial/neighborhoods.json) and [restaurants](https://raw.githubusercontent.com/mongodb/docs-assets/geospatial/restaurants.json)"
   ]
  },
  {
   "cell_type": "markdown",
   "metadata": {},
   "source": [
    "Execute in **command line** (remember to have MongoDB *bin* directory in path):\n",
    "~~~\n",
    "mongoimport -c neighborhoods -d geo neighborhoods.json\n",
    "mongoimport -c restaurants -d geo restaurants.json\n",
    "~~~"
   ]
  },
  {
   "cell_type": "markdown",
   "metadata": {},
   "source": [
    "#### Loading datasets:"
   ]
  },
  {
   "cell_type": "code",
   "execution_count": 46,
   "metadata": {
    "collapsed": true
   },
   "outputs": [],
   "source": [
    "neighborhoods = dbgeo[\"neighborhoods\"]\n",
    "restaurants = dbgeo[\"restaurants\"]"
   ]
  },
  {
   "cell_type": "markdown",
   "metadata": {
    "collapsed": true
   },
   "source": [
    "#### Creating geospatial indexes:"
   ]
  },
  {
   "cell_type": "markdown",
   "metadata": {},
   "source": [
    "In order to create the indexes, first must see both dataset fields in order to see which field to index:"
   ]
  },
  {
   "cell_type": "code",
   "execution_count": 47,
   "metadata": {
    "scrolled": true
   },
   "outputs": [
    {
     "data": {
      "text/plain": [
       "{'_id': ObjectId('55cb9c666c522cafdb053a1a'),\n",
       " 'geometry': {'coordinates': [[[-73.94193078816193, 40.70072523469547],\n",
       "    [-73.9443878859649, 40.70042452378256],\n",
       "    [-73.94424286147482, 40.69969927964773],\n",
       "    [-73.94409591260093, 40.69897295461309],\n",
       "    [-73.94394947271304, 40.69822127983908],\n",
       "    [-73.94391750192877, 40.69805620211356],\n",
       "    [-73.94380383211836, 40.697469265449826],\n",
       "    [-73.94378455587042, 40.6973697290538],\n",
       "    [-73.94374306706803, 40.69715549995503],\n",
       "    [-73.9437245356891, 40.697059812179496],\n",
       "    [-73.94368427322361, 40.696851909818065],\n",
       "    [-73.9436842703752, 40.69685189440415],\n",
       "    [-73.94363806934868, 40.69661331854307],\n",
       "    [-73.94362121369004, 40.696526279661654],\n",
       "    [-73.9435563415296, 40.69619128295102],\n",
       "    [-73.94354024149403, 40.6961081421151],\n",
       "    [-73.94352527471477, 40.69603085523812],\n",
       "    [-73.94338802084431, 40.69528899051899],\n",
       "    [-73.943242490861, 40.694557485733355],\n",
       "    [-73.94312826743185, 40.693967038330925],\n",
       "    [-73.94311427813774, 40.693894720557466],\n",
       "    [-73.94310040895432, 40.69382302905847],\n",
       "    [-73.94295136131598, 40.69309078423585],\n",
       "    [-73.94280765181726, 40.692357794128945],\n",
       "    [-73.94266181801652, 40.69162434435983],\n",
       "    [-73.94251587928605, 40.69089200097073],\n",
       "    [-73.94236932748694, 40.690159944665304],\n",
       "    [-73.94222203471806, 40.68942797886745],\n",
       "    [-73.94207684924385, 40.68869720298344],\n",
       "    [-73.9419324508184, 40.687962958755094],\n",
       "    [-73.94178527584324, 40.687228372121126],\n",
       "    [-73.94163933150469, 40.68649727009258],\n",
       "    [-73.94149491757346, 40.68576452882908],\n",
       "    [-73.94134827184915, 40.685031202512505],\n",
       "    [-73.94120399291621, 40.68429983923358],\n",
       "    [-73.94105783787931, 40.68356687284592],\n",
       "    [-73.9409133427312, 40.682833617234294],\n",
       "    [-73.94076893329961, 40.68210083903887],\n",
       "    [-73.94062005382186, 40.68137013010259],\n",
       "    [-73.94047635005941, 40.680635695422964],\n",
       "    [-73.94032793962053, 40.67988997506463],\n",
       "    [-73.94120864299748, 40.67993835375214],\n",
       "    [-73.94326176928655, 40.68005060712657],\n",
       "    [-73.94397347805013, 40.680088128426995],\n",
       "    [-73.94627470970092, 40.68021332692951],\n",
       "    [-73.94674915979888, 40.680239661363046],\n",
       "    [-73.9477302355664, 40.680291846282316],\n",
       "    [-73.9495568871113, 40.68039040292329],\n",
       "    [-73.95115828512961, 40.68047861480679],\n",
       "    [-73.95155682676496, 40.680498847575564],\n",
       "    [-73.95337017508861, 40.68064050844431],\n",
       "    [-73.95351616791015, 40.68138260047889],\n",
       "    [-73.95366256227194, 40.68211490361348],\n",
       "    [-73.95380893530668, 40.68284800827331],\n",
       "    [-73.95395453033524, 40.68358077882069],\n",
       "    [-73.95410042574005, 40.684313107633436],\n",
       "    [-73.95424647696164, 40.68504624826183],\n",
       "    [-73.95439296867414, 40.685779720013606],\n",
       "    [-73.95453798607406, 40.68651117540455],\n",
       "    [-73.95468418850508, 40.68724485443714],\n",
       "    [-73.95684165193596, 40.68699607883792],\n",
       "    [-73.95956770121337, 40.68668255592727],\n",
       "    [-73.95971374756459, 40.6874156340909],\n",
       "    [-73.95985939425704, 40.688147451217226],\n",
       "    [-73.96000519802635, 40.688881033718204],\n",
       "    [-73.96009714565346, 40.689345210097464],\n",
       "    [-73.96012172912181, 40.68946930706387],\n",
       "    [-73.96017256138677, 40.68972986156118],\n",
       "    [-73.96018691858275, 40.689803455988546],\n",
       "    [-73.96022304539724, 40.689988627383755],\n",
       "    [-73.96023740336433, 40.69006222280781],\n",
       "    [-73.96029281668112, 40.690346249915414],\n",
       "    [-73.96013760800457, 40.69036438035883],\n",
       "    [-73.96008336800442, 40.6903707157072],\n",
       "    [-73.95957591847137, 40.69042998753855],\n",
       "    [-73.95942791320554, 40.69044727471387],\n",
       "    [-73.95934862389824, 40.6904564609108],\n",
       "    [-73.95928133730644, 40.69046425696955],\n",
       "    [-73.95899330491858, 40.69049762936284],\n",
       "    [-73.95886713625437, 40.69051224801476],\n",
       "    [-73.95857844775936, 40.690545694857576],\n",
       "    [-73.9581804874994, 40.69059073040573],\n",
       "    [-73.95808563435828, 40.69060146372528],\n",
       "    [-73.95727249112613, 40.69069347835403],\n",
       "    [-73.95635602958276, 40.69079978191732],\n",
       "    [-73.95541057949602, 40.690908291885876],\n",
       "    [-73.95582662769675, 40.69299238288233],\n",
       "    [-73.95614239268207, 40.69457901857237],\n",
       "    [-73.9570870194244, 40.694470440162995],\n",
       "    [-73.95799732979468, 40.694365838684114],\n",
       "    [-73.95931047927598, 40.69421508783189],\n",
       "    [-73.96015854658333, 40.69411730915604],\n",
       "    [-73.96062056531659, 40.6963201401926],\n",
       "    [-73.96092543804184, 40.69773650701631],\n",
       "    [-73.96105100700007, 40.698326078819065],\n",
       "    [-73.96019688857467, 40.698462727438596],\n",
       "    [-73.95885874627406, 40.6986773264162],\n",
       "    [-73.95795938220984, 40.69882000321581],\n",
       "    [-73.95701993123406, 40.698973914349565],\n",
       "    [-73.957167301054, 40.69970786791901],\n",
       "    [-73.95722517405626, 40.69999935002626],\n",
       "    [-73.95745736372834, 40.70082260318457],\n",
       "    [-73.95572361014881, 40.70194576955721],\n",
       "    [-73.9538119690652, 40.70318097979544],\n",
       "    [-73.95318085172319, 40.70261690547745],\n",
       "    [-73.95255052777945, 40.7020516665144],\n",
       "    [-73.951920189279, 40.70148754916077],\n",
       "    [-73.95128819434734, 40.70092236548591],\n",
       "    [-73.95027424109588, 40.70157924195056],\n",
       "    [-73.9493787354337, 40.70215888982628],\n",
       "    [-73.94753858146478, 40.703350650664795],\n",
       "    [-73.94705205297524, 40.70366394934019],\n",
       "    [-73.94625107780892, 40.70320874745355],\n",
       "    [-73.9458549904679, 40.70298720677488],\n",
       "    [-73.94544988192177, 40.702760635974364],\n",
       "    [-73.94463910154856, 40.70231369467456],\n",
       "    [-73.94431460096804, 40.70213334535181],\n",
       "    [-73.94400504048726, 40.70196179219718],\n",
       "    [-73.9438247374114, 40.701862007878276],\n",
       "    [-73.94322686012315, 40.701520709145726],\n",
       "    [-73.94306406845838, 40.7014244350918],\n",
       "    [-73.94220058705264, 40.700890667467746],\n",
       "    [-73.94193078816193, 40.70072523469547]]],\n",
       "  'type': 'Polygon'},\n",
       " 'name': 'Bedford'}"
      ]
     },
     "execution_count": 47,
     "metadata": {},
     "output_type": "execute_result"
    }
   ],
   "source": [
    "dbgeo.neighborhoods.find_one() # field: geometry, type: Polygon"
   ]
  },
  {
   "cell_type": "code",
   "execution_count": 48,
   "metadata": {},
   "outputs": [
    {
     "data": {
      "text/plain": [
       "{'_id': ObjectId('55cba2476c522cafdb053add'),\n",
       " 'location': {'coordinates': [-73.856077, 40.848447], 'type': 'Point'},\n",
       " 'name': 'Morris Park Bake Shop'}"
      ]
     },
     "execution_count": 48,
     "metadata": {},
     "output_type": "execute_result"
    }
   ],
   "source": [
    "dbgeo.restaurants.find_one() # field: location, type: Point"
   ]
  },
  {
   "cell_type": "markdown",
   "metadata": {},
   "source": [
    "Now we can create both indexes:"
   ]
  },
  {
   "cell_type": "code",
   "execution_count": 49,
   "metadata": {},
   "outputs": [
    {
     "data": {
      "text/plain": [
       "'geometry_2dsphere'"
      ]
     },
     "execution_count": 49,
     "metadata": {},
     "output_type": "execute_result"
    }
   ],
   "source": [
    "dbgeo.neighborhoods.create_index([(\"geometry\", \"2dsphere\")])"
   ]
  },
  {
   "cell_type": "code",
   "execution_count": 50,
   "metadata": {},
   "outputs": [
    {
     "data": {
      "text/plain": [
       "'location_2dsphere'"
      ]
     },
     "execution_count": 50,
     "metadata": {},
     "output_type": "execute_result"
    }
   ],
   "source": [
    "dbgeo.restaurants.create_index([(\"location\", \"2dsphere\")])"
   ]
  },
  {
   "cell_type": "markdown",
   "metadata": {},
   "source": [
    "### [Geospatial Query Operators](https://docs.mongodb.com/manual/reference/operator/query-geospatial/)"
   ]
  },
  {
   "cell_type": "markdown",
   "metadata": {},
   "source": [
    "Query operators provide ways to locate data within the database and projection operators modify how data is presented.\n",
    "\n",
    "*Note: In order to check geometries better use tools like [geodndmap](https://github.com/rueckstiess/geodndmap) ([webapp version](https://s3.amazonaws.com/geodndmap/index.html)). [This](https://jira.mongodb.org/browse/SERVER-24549?focusedCommentId=1293398&page=com.atlassian.jira.plugin.system.issuetabpanels%3Acomment-tabpanel#comment-1293398) is a good example of why use it, reported in MongoDB's Jira.*"
   ]
  },
  {
   "cell_type": "markdown",
   "metadata": {},
   "source": [
    "#### [\$geoWithin](https://docs.mongodb.com/manual/reference/operator/query/geoWithin/#op._S_geoWithin)"
   ]
  },
  {
   "cell_type": "markdown",
   "metadata": {},
   "source": [
    "Selects documents with geospatial data that exists entirely within a specified shape. When determining inclusion, MongoDB considers the border of a shape to be part of the shape, subject to the precision of floating point numbers."
   ]
  },
  {
   "cell_type": "markdown",
   "metadata": {},
   "source": [
    "- Find wich polygon fits inside polygon 1:"
   ]
  },
  {
   "cell_type": "code",
   "execution_count": 51,
   "metadata": {},
   "outputs": [
    {
     "name": "stdout",
     "output_type": "stream",
     "text": [
      "{'_id': ObjectId('594b87cd5069ef619c872072'),\n",
      " 'loc': {'coordinates': [[[1, 1], [2, 1], [1, 2], [1, 1]]], 'type': 'Polygon'}}\n"
     ]
    }
   ],
   "source": [
    "within = dbgeo.polygons.find(\n",
    "   {\n",
    "     \"loc\": { \"$geoWithin\": { \"$geometry\": poly1 } }\n",
    "   }\n",
    ")\n",
    "for doc in within:\n",
    "    pprint.pprint(doc) # only 1 result: poly2"
   ]
  },
  {
   "cell_type": "markdown",
   "metadata": {},
   "source": [
    "- Find all restaurants within 4 km from [-73.9, 40.634] coordinates:"
   ]
  },
  {
   "cell_type": "code",
   "execution_count": 53,
   "metadata": {
    "collapsed": true
   },
   "outputs": [],
   "source": [
    "rests4km = dbgeo.restaurants.find({\n",
    "     \"location\": {\n",
    "         \"$geoWithin\": {\n",
    "             \"$centerSphere\": [ [ -73.9, 40.634 ], 4 / 63781.1 ]\n",
    "                                 # 4 Km divided by 63781.1 Km (radius of earth)\n",
    "                         }\n",
    "                 }\n",
    "})"
   ]
  },
  {
   "cell_type": "markdown",
   "metadata": {},
   "source": [
    "[\$centerSphere](https://docs.mongodb.com/manual/reference/operator/query/centerSphere/) needs as parameters the coordinates and the circle’s radius measured in radians. To calculate radians, see [Calculate Distance Using Spherical Geometry](https://docs.mongodb.com/manual/tutorial/calculate-distances-using-spherical-geometry-with-2d-geospatial-indexes/)."
   ]
  },
  {
   "cell_type": "code",
   "execution_count": 54,
   "metadata": {},
   "outputs": [
    {
     "data": {
      "text/plain": [
       "5"
      ]
     },
     "execution_count": 54,
     "metadata": {},
     "output_type": "execute_result"
    }
   ],
   "source": [
    "rests4km.count() # 5 restaurants found"
   ]
  },
  {
   "cell_type": "code",
   "execution_count": 55,
   "metadata": {
    "scrolled": true
   },
   "outputs": [
    {
     "name": "stdout",
     "output_type": "stream",
     "text": [
      "{'_id': ObjectId('55cba2476c522cafdb0569de'),\n",
      " 'location': {'coordinates': [-73.9022305, 40.6339824], 'type': 'Point'},\n",
      " 'name': 'Double Dragon'}\n",
      "{'_id': ObjectId('55cba2476c522cafdb0568ce'),\n",
      " 'location': {'coordinates': [-73.899778, 40.6360412], 'type': 'Point'},\n",
      " 'name': 'Yi Hong Restaurant'}\n",
      "{'_id': ObjectId('55cba2476c522cafdb0562f4'),\n",
      " 'location': {'coordinates': [-73.89863749999999, 40.6362343], 'type': 'Point'},\n",
      " 'name': 'Happy Taco'}\n",
      "{'_id': ObjectId('55cba2476c522cafdb057ec4'),\n",
      " 'location': {'coordinates': [-73.899084, 40.635921], 'type': 'Point'},\n",
      " 'name': \"Richard'S Diner & Catering\"}\n",
      "{'_id': ObjectId('55cba2476c522cafdb0586f7'),\n",
      " 'location': {'coordinates': [-73.89760249999999, 40.636928], 'type': 'Point'},\n",
      " 'name': 'Citadelle Bar And Restaurant'}\n"
     ]
    }
   ],
   "source": [
    "for doc in rests4km:\n",
    "    pprint.pprint(doc)"
   ]
  },
  {
   "cell_type": "markdown",
   "metadata": {},
   "source": [
    "#### [\$geoIntersects](https://docs.mongodb.com/manual/reference/operator/query/geoIntersects/#op._S_geoIntersects)"
   ]
  },
  {
   "cell_type": "markdown",
   "metadata": {},
   "source": [
    "Selects documents whose geospatial data intersects with a specified GeoJSON object."
   ]
  },
  {
   "cell_type": "markdown",
   "metadata": {},
   "source": [
    "- Find wich polygon intersect with polygon 1:"
   ]
  },
  {
   "cell_type": "code",
   "execution_count": 56,
   "metadata": {},
   "outputs": [
    {
     "name": "stdout",
     "output_type": "stream",
     "text": [
      "{'_id': ObjectId('594b87cd5069ef619c872073'),\n",
      " 'loc': {'coordinates': [[[1, 0], [-2, 0], [1, 3], [1, 0]]], 'type': 'Polygon'}}\n",
      "{'_id': ObjectId('594b87cd5069ef619c872072'),\n",
      " 'loc': {'coordinates': [[[1, 1], [2, 1], [1, 2], [1, 1]]], 'type': 'Polygon'}}\n"
     ]
    }
   ],
   "source": [
    "intersects = dbgeo.polygons.find(\n",
    "   {\n",
    "     \"loc\": { \"$geoIntersects\": { \"$geometry\": poly1 } }\n",
    "   }\n",
    ")\n",
    "for doc in intersects:\n",
    "    pprint.pprint(doc) # 2 results: poly1 and poly3"
   ]
  },
  {
   "cell_type": "markdown",
   "metadata": {},
   "source": [
    "#### [\$near](https://docs.mongodb.com/manual/reference/operator/query/near/#op._S_near)"
   ]
  },
  {
   "cell_type": "markdown",
   "metadata": {},
   "source": [
    "Specifies a point for which a geospatial query returns the documents from nearest to farthest. The \$near operator can specify either a [GeoJSON](https://docs.mongodb.com/manual/reference/glossary/#term-geojson) point or legacy coordinate point. **\$near** requires a geospatial index:\n",
    "- **2dsphere** index if specifying a GeoJSON point\n",
    "- **2d** index if specifying a point using legacy coordinates."
   ]
  },
  {
   "cell_type": "markdown",
   "metadata": {},
   "source": [
    "In this example we will look near *Morris Park Bake Shop* (-73.856077, 40.848447), looking for coordinates [ -73.85607**9**, 40.84844**9** ] and limiting the results to those documents that are at most 150m from the center point."
   ]
  },
  {
   "cell_type": "code",
   "execution_count": 57,
   "metadata": {
    "collapsed": true
   },
   "outputs": [],
   "source": [
    "near = dbgeo.restaurants.find(\n",
    "   {\n",
    "     \"location\": { \"$near\": \n",
    "                      { \"coordinates\": [ -73.856079, 40.848449 ] }\n",
    "                     , \"$maxDistance\": 150\n",
    "                 }\n",
    "   }\n",
    ")"
   ]
  },
  {
   "cell_type": "code",
   "execution_count": 58,
   "metadata": {
    "scrolled": true
   },
   "outputs": [
    {
     "data": {
      "text/plain": [
       "13"
      ]
     },
     "execution_count": 58,
     "metadata": {},
     "output_type": "execute_result"
    }
   ],
   "source": [
    "near.count() # 13 restaurants found"
   ]
  },
  {
   "cell_type": "markdown",
   "metadata": {},
   "source": [
    "As we expected *Morris Park Bake Shop* is the nearest one:"
   ]
  },
  {
   "cell_type": "code",
   "execution_count": 59,
   "metadata": {},
   "outputs": [
    {
     "name": "stdout",
     "output_type": "stream",
     "text": [
      "{'_id': ObjectId('55cba2476c522cafdb053add'),\n",
      " 'location': {'coordinates': [-73.856077, 40.848447], 'type': 'Point'},\n",
      " 'name': 'Morris Park Bake Shop'}\n",
      "{'_id': ObjectId('55cba2476c522cafdb056c87'),\n",
      " 'location': {'coordinates': [-73.8560691, 40.8483622], 'type': 'Point'},\n",
      " 'name': \"Luciano'S Pizza\"}\n",
      "{'_id': ObjectId('55cba2486c522cafdb05984f'),\n",
      " 'location': {'coordinates': [-73.8559476, 40.8479438], 'type': 'Point'},\n",
      " 'name': 'La Masa Restaurant'}\n",
      "{'_id': ObjectId('55cba2476c522cafdb055c0d'),\n",
      " 'location': {'coordinates': [-73.85517089999999, 40.8483418], 'type': 'Point'},\n",
      " 'name': 'Doyles Pub'}\n",
      "{'_id': ObjectId('55cba2486c522cafdb059637'),\n",
      " 'location': {'coordinates': [-73.856526, 40.847648], 'type': 'Point'},\n",
      " 'name': \"Patsy'S Pizzeria\"}\n"
     ]
    }
   ],
   "source": [
    "for doc in near.limit(5): # limit output\n",
    "    pprint.pprint(doc)"
   ]
  },
  {
   "cell_type": "markdown",
   "metadata": {},
   "source": [
    "#### [\$nearSphere](https://docs.mongodb.com/manual/reference/operator/query/nearSphere/#op._S_nearSphere)"
   ]
  },
  {
   "cell_type": "markdown",
   "metadata": {
    "collapsed": true
   },
   "source": [
    "Specifies a point for which a geospatial query returns the documents from nearest to farthest. MongoDB calculates distances for **\$nearSphere** using spherical geometry. **\$nearSphere** requires a geospatial index:\n",
    "- **2dsphere** index for location data defined as GeoJSON points\n",
    "- **2d** index for location data defined as legacy coordinate pairs. To use a 2d index on GeoJSON points, create the index on the coordinates field of the GeoJSON object."
   ]
  },
  {
   "cell_type": "markdown",
   "metadata": {},
   "source": [
    "There is no much difference between \$near and \$nearSphere (more info [here](https://stackoverflow.com/questions/38287374/in-mongo-what-is-the-difference-between-near-and-nearsphere)). The previous example used in \$near works also with \$nearSphere."
   ]
  },
  {
   "cell_type": "markdown",
   "metadata": {
    "collapsed": true
   },
   "source": [
    "#### Some notes about \$near and \$nearSphere"
   ]
  },
  {
   "cell_type": "markdown",
   "metadata": {},
   "source": [
    "Some operations, like **\$near** and **\$nearSphere**, **[requires a geospatial index](https://docs.mongodb.com/manual/core/2dsphere/#geonear-and-geonear-restrictions)**. If we don't create a geospatial index everytime we call this operation we'll get an error like this:\n",
    "~~~\n",
    "OperationFailure: error processing query: ns=geo.restaurantsTree: GEONEAR  field=location maxdist=1.79769e+308 isNearSphere=0\n",
    "Sort: {}\n",
    "Proj: {}\n",
    " planner returned error: unable to find index for $geoNear query\n",
    "~~~"
   ]
  },
  {
   "cell_type": "markdown",
   "metadata": {},
   "source": [
    "In order to reproduce the problem we have to delete the index:"
   ]
  },
  {
   "cell_type": "code",
   "execution_count": 60,
   "metadata": {
    "collapsed": true
   },
   "outputs": [],
   "source": [
    "dbgeo.restaurants.drop_indexes()"
   ]
  },
  {
   "cell_type": "markdown",
   "metadata": {},
   "source": [
    "Now we will see the error mentioned:"
   ]
  },
  {
   "cell_type": "code",
   "execution_count": 61,
   "metadata": {
    "scrolled": true
   },
   "outputs": [
    {
     "ename": "OperationFailure",
     "evalue": "error processing query: ns=geo.restaurantsTree: GEONEAR  field=location maxdist=1.79769e+308 isNearSphere=0\nSort: {}\nProj: {}\n planner returned error: unable to find index for $geoNear query",
     "output_type": "error",
     "traceback": [
      "\u001b[1;31m---------------------------------------------------------------------------\u001b[0m",
      "\u001b[1;31mOperationFailure\u001b[0m                          Traceback (most recent call last)",
      "\u001b[1;32m<ipython-input-61-61125d691c11>\u001b[0m in \u001b[0;36m<module>\u001b[1;34m()\u001b[0m\n\u001b[1;32m----> 1\u001b[1;33m \u001b[0mdbgeo\u001b[0m\u001b[1;33m.\u001b[0m\u001b[0mrestaurants\u001b[0m\u001b[1;33m.\u001b[0m\u001b[0mfind\u001b[0m\u001b[1;33m(\u001b[0m \u001b[1;33m{\u001b[0m \u001b[1;34m\"location\"\u001b[0m\u001b[1;33m:\u001b[0m \u001b[1;33m{\u001b[0m \u001b[1;34m\"$near\"\u001b[0m\u001b[1;33m:\u001b[0m \u001b[1;33m{\u001b[0m \u001b[1;34m\"coordinates\"\u001b[0m\u001b[1;33m:\u001b[0m \u001b[1;33m[\u001b[0m \u001b[1;33m-\u001b[0m\u001b[1;36m73.856079\u001b[0m\u001b[1;33m,\u001b[0m \u001b[1;36m40.848449\u001b[0m \u001b[1;33m]\u001b[0m \u001b[1;33m}\u001b[0m \u001b[1;33m}\u001b[0m \u001b[1;33m}\u001b[0m\u001b[1;33m)\u001b[0m\u001b[1;33m.\u001b[0m\u001b[0mcount\u001b[0m\u001b[1;33m(\u001b[0m\u001b[1;33m)\u001b[0m\u001b[1;33m\u001b[0m\u001b[0m\n\u001b[0m",
      "\u001b[1;32mc:\\python\\lib\\site-packages\\pymongo\\cursor.py\u001b[0m in \u001b[0;36mcount\u001b[1;34m(self, with_limit_and_skip)\u001b[0m\n\u001b[0;32m    709\u001b[0m                 \u001b[0mcmd\u001b[0m\u001b[1;33m[\u001b[0m\u001b[1;34m\"skip\"\u001b[0m\u001b[1;33m]\u001b[0m \u001b[1;33m=\u001b[0m \u001b[0mself\u001b[0m\u001b[1;33m.\u001b[0m\u001b[0m__skip\u001b[0m\u001b[1;33m\u001b[0m\u001b[0m\n\u001b[0;32m    710\u001b[0m \u001b[1;33m\u001b[0m\u001b[0m\n\u001b[1;32m--> 711\u001b[1;33m         \u001b[1;32mreturn\u001b[0m \u001b[0mself\u001b[0m\u001b[1;33m.\u001b[0m\u001b[0m__collection\u001b[0m\u001b[1;33m.\u001b[0m\u001b[0m_count\u001b[0m\u001b[1;33m(\u001b[0m\u001b[0mcmd\u001b[0m\u001b[1;33m,\u001b[0m \u001b[0mself\u001b[0m\u001b[1;33m.\u001b[0m\u001b[0m__collation\u001b[0m\u001b[1;33m)\u001b[0m\u001b[1;33m\u001b[0m\u001b[0m\n\u001b[0m\u001b[0;32m    712\u001b[0m \u001b[1;33m\u001b[0m\u001b[0m\n\u001b[0;32m    713\u001b[0m     \u001b[1;32mdef\u001b[0m \u001b[0mdistinct\u001b[0m\u001b[1;33m(\u001b[0m\u001b[0mself\u001b[0m\u001b[1;33m,\u001b[0m \u001b[0mkey\u001b[0m\u001b[1;33m)\u001b[0m\u001b[1;33m:\u001b[0m\u001b[1;33m\u001b[0m\u001b[0m\n",
      "\u001b[1;32mc:\\python\\lib\\site-packages\\pymongo\\collection.py\u001b[0m in \u001b[0;36m_count\u001b[1;34m(self, cmd, collation)\u001b[0m\n\u001b[0;32m   1308\u001b[0m                 \u001b[0mcodec_options\u001b[0m\u001b[1;33m=\u001b[0m\u001b[0mself\u001b[0m\u001b[1;33m.\u001b[0m\u001b[0m__write_response_codec_options\u001b[0m\u001b[1;33m,\u001b[0m\u001b[1;33m\u001b[0m\u001b[0m\n\u001b[0;32m   1309\u001b[0m                 \u001b[0mread_concern\u001b[0m\u001b[1;33m=\u001b[0m\u001b[0mself\u001b[0m\u001b[1;33m.\u001b[0m\u001b[0mread_concern\u001b[0m\u001b[1;33m,\u001b[0m\u001b[1;33m\u001b[0m\u001b[0m\n\u001b[1;32m-> 1310\u001b[1;33m                 collation=collation)\n\u001b[0m\u001b[0;32m   1311\u001b[0m         \u001b[1;32mif\u001b[0m \u001b[0mres\u001b[0m\u001b[1;33m.\u001b[0m\u001b[0mget\u001b[0m\u001b[1;33m(\u001b[0m\u001b[1;34m\"errmsg\"\u001b[0m\u001b[1;33m,\u001b[0m \u001b[1;34m\"\"\u001b[0m\u001b[1;33m)\u001b[0m \u001b[1;33m==\u001b[0m \u001b[1;34m\"ns missing\"\u001b[0m\u001b[1;33m:\u001b[0m\u001b[1;33m\u001b[0m\u001b[0m\n\u001b[0;32m   1312\u001b[0m             \u001b[1;32mreturn\u001b[0m \u001b[1;36m0\u001b[0m\u001b[1;33m\u001b[0m\u001b[0m\n",
      "\u001b[1;32mc:\\python\\lib\\site-packages\\pymongo\\collection.py\u001b[0m in \u001b[0;36m_command\u001b[1;34m(self, sock_info, command, slave_ok, read_preference, codec_options, check, allowable_errors, read_concern, write_concern, parse_write_concern_error, collation)\u001b[0m\n\u001b[0;32m    230\u001b[0m             \u001b[0mwrite_concern\u001b[0m\u001b[1;33m=\u001b[0m\u001b[0mwrite_concern\u001b[0m\u001b[1;33m,\u001b[0m\u001b[1;33m\u001b[0m\u001b[0m\n\u001b[0;32m    231\u001b[0m             \u001b[0mparse_write_concern_error\u001b[0m\u001b[1;33m=\u001b[0m\u001b[0mparse_write_concern_error\u001b[0m\u001b[1;33m,\u001b[0m\u001b[1;33m\u001b[0m\u001b[0m\n\u001b[1;32m--> 232\u001b[1;33m             collation=collation)\n\u001b[0m\u001b[0;32m    233\u001b[0m \u001b[1;33m\u001b[0m\u001b[0m\n\u001b[0;32m    234\u001b[0m     \u001b[1;32mdef\u001b[0m \u001b[0m__create\u001b[0m\u001b[1;33m(\u001b[0m\u001b[0mself\u001b[0m\u001b[1;33m,\u001b[0m \u001b[0moptions\u001b[0m\u001b[1;33m,\u001b[0m \u001b[0mcollation\u001b[0m\u001b[1;33m)\u001b[0m\u001b[1;33m:\u001b[0m\u001b[1;33m\u001b[0m\u001b[0m\n",
      "\u001b[1;32mc:\\python\\lib\\site-packages\\pymongo\\pool.py\u001b[0m in \u001b[0;36mcommand\u001b[1;34m(self, dbname, spec, slave_ok, read_preference, codec_options, check, allowable_errors, check_keys, read_concern, write_concern, parse_write_concern_error, collation)\u001b[0m\n\u001b[0;32m    417\u001b[0m                            \u001b[0mread_concern\u001b[0m\u001b[1;33m,\u001b[0m\u001b[1;33m\u001b[0m\u001b[0m\n\u001b[0;32m    418\u001b[0m                            \u001b[0mparse_write_concern_error\u001b[0m\u001b[1;33m=\u001b[0m\u001b[0mparse_write_concern_error\u001b[0m\u001b[1;33m,\u001b[0m\u001b[1;33m\u001b[0m\u001b[0m\n\u001b[1;32m--> 419\u001b[1;33m                            collation=collation)\n\u001b[0m\u001b[0;32m    420\u001b[0m         \u001b[1;32mexcept\u001b[0m \u001b[0mOperationFailure\u001b[0m\u001b[1;33m:\u001b[0m\u001b[1;33m\u001b[0m\u001b[0m\n\u001b[0;32m    421\u001b[0m             \u001b[1;32mraise\u001b[0m\u001b[1;33m\u001b[0m\u001b[0m\n",
      "\u001b[1;32mc:\\python\\lib\\site-packages\\pymongo\\network.py\u001b[0m in \u001b[0;36mcommand\u001b[1;34m(sock, dbname, spec, slave_ok, is_mongos, read_preference, codec_options, check, allowable_errors, address, check_keys, listeners, max_bson_size, read_concern, parse_write_concern_error, collation)\u001b[0m\n\u001b[0;32m    114\u001b[0m             helpers._check_command_response(\n\u001b[0;32m    115\u001b[0m                 \u001b[0mresponse_doc\u001b[0m\u001b[1;33m,\u001b[0m \u001b[1;32mNone\u001b[0m\u001b[1;33m,\u001b[0m \u001b[0mallowable_errors\u001b[0m\u001b[1;33m,\u001b[0m\u001b[1;33m\u001b[0m\u001b[0m\n\u001b[1;32m--> 116\u001b[1;33m                 parse_write_concern_error=parse_write_concern_error)\n\u001b[0m\u001b[0;32m    117\u001b[0m     \u001b[1;32mexcept\u001b[0m \u001b[0mException\u001b[0m \u001b[1;32mas\u001b[0m \u001b[0mexc\u001b[0m\u001b[1;33m:\u001b[0m\u001b[1;33m\u001b[0m\u001b[0m\n\u001b[0;32m    118\u001b[0m         \u001b[1;32mif\u001b[0m \u001b[0mpublish\u001b[0m\u001b[1;33m:\u001b[0m\u001b[1;33m\u001b[0m\u001b[0m\n",
      "\u001b[1;32mc:\\python\\lib\\site-packages\\pymongo\\helpers.py\u001b[0m in \u001b[0;36m_check_command_response\u001b[1;34m(response, msg, allowable_errors, parse_write_concern_error)\u001b[0m\n\u001b[0;32m    208\u001b[0m \u001b[1;33m\u001b[0m\u001b[0m\n\u001b[0;32m    209\u001b[0m             \u001b[0mmsg\u001b[0m \u001b[1;33m=\u001b[0m \u001b[0mmsg\u001b[0m \u001b[1;32mor\u001b[0m \u001b[1;34m\"%s\"\u001b[0m\u001b[1;33m\u001b[0m\u001b[0m\n\u001b[1;32m--> 210\u001b[1;33m             \u001b[1;32mraise\u001b[0m \u001b[0mOperationFailure\u001b[0m\u001b[1;33m(\u001b[0m\u001b[0mmsg\u001b[0m \u001b[1;33m%\u001b[0m \u001b[0merrmsg\u001b[0m\u001b[1;33m,\u001b[0m \u001b[0mcode\u001b[0m\u001b[1;33m,\u001b[0m \u001b[0mresponse\u001b[0m\u001b[1;33m)\u001b[0m\u001b[1;33m\u001b[0m\u001b[0m\n\u001b[0m\u001b[0;32m    211\u001b[0m \u001b[1;33m\u001b[0m\u001b[0m\n\u001b[0;32m    212\u001b[0m \u001b[1;33m\u001b[0m\u001b[0m\n",
      "\u001b[1;31mOperationFailure\u001b[0m: error processing query: ns=geo.restaurantsTree: GEONEAR  field=location maxdist=1.79769e+308 isNearSphere=0\nSort: {}\nProj: {}\n planner returned error: unable to find index for $geoNear query"
     ]
    }
   ],
   "source": [
    "dbgeo.restaurants.find( { \"location\": { \"$near\": { \"coordinates\": [ -73.856079, 40.848449 ] } } }).count()"
   ]
  },
  {
   "cell_type": "markdown",
   "metadata": {},
   "source": [
    "More info about the kind of geometry each geospatial operator will use in: [Differences Between Flat and Spherical Geometry](https://docs.mongodb.com/manual/tutorial/geospatial-tutorial/#differences-between-flat-and-spherical-geometry)."
   ]
  },
  {
   "cell_type": "markdown",
   "metadata": {},
   "source": [
    "Let's fix the problem creating again the index:"
   ]
  },
  {
   "cell_type": "code",
   "execution_count": 62,
   "metadata": {},
   "outputs": [
    {
     "data": {
      "text/plain": [
       "'location_2dsphere'"
      ]
     },
     "execution_count": 62,
     "metadata": {},
     "output_type": "execute_result"
    }
   ],
   "source": [
    "dbgeo.restaurants.create_index([(\"location\", \"2dsphere\")])"
   ]
  },
  {
   "cell_type": "markdown",
   "metadata": {},
   "source": [
    "#### [\$geoNear (aggregation)](https://docs.mongodb.com/manual/reference/operator/aggregation/geoNear/#pipe._S_geoNear)"
   ]
  },
  {
   "cell_type": "markdown",
   "metadata": {},
   "source": [
    "Outputs documents in order of nearest to farthest from a specified point."
   ]
  },
  {
   "cell_type": "markdown",
   "metadata": {},
   "source": [
    "The $geoNear aggregation is not really a Geospatial Query Operators but it has similar uses and one of his advantages is the ability to **calculate the distance from two points**. The option that allow us to calculate the distance is:\n",
    "- **distanceField**: The output field that contains the calculated distance. To specify a field within an embedded document, use dot notation.\n"
   ]
  },
  {
   "cell_type": "markdown",
   "metadata": {},
   "source": [
    "In the next example we will locate the nearest restaurant from a random point (-74.4, 40.4):"
   ]
  },
  {
   "cell_type": "code",
   "execution_count": 63,
   "metadata": {},
   "outputs": [
    {
     "name": "stdout",
     "output_type": "stream",
     "text": [
      "{'_id': ObjectId('55cba2476c522cafdb053c92'),\n",
      " 'dist': 0.0007912778972893815,\n",
      " 'location': {'coordinates': [-74.3731727, 40.4404759], 'type': 'Point'},\n",
      " 'name': \"Water'S Edge Club\"}\n",
      "Distance: 5.046849556701405 km\n"
     ]
    }
   ],
   "source": [
    "geoNear = restaurants.aggregate(\n",
    "[{ \n",
    "    \"$geoNear\": {\n",
    "        \"near\": [ -74.4, 40.4 ],\n",
    "        \"distanceField\": \"dist\", \n",
    "        \"spherical\": True,\n",
    "        \"limit\":1\n",
    "    }\n",
    "}])\n",
    "\n",
    "for doc in geoNear:\n",
    "    pprint.pprint(doc)\n",
    "    print(\"Distance: \" + str(doc['dist'] * 6378.1) + \" km\")"
   ]
  },
  {
   "cell_type": "markdown",
   "metadata": {},
   "source": [
    "So, from point 40.4, -74.4 to point 40.4404759, -74.3731727 there are 5.04 km of distance.\n",
    "\n",
    "In order to calculate the distance we have to multiply the radian measure (*dist* obtained) by the radius of the Earth (6378.1 km). As stated before, more info here: [Calculate Distance Using Spherical Geometry](https://docs.mongodb.com/manual/tutorial/calculate-distances-using-spherical-geometry-with-2d-geospatial-indexes/) "
   ]
  },
  {
   "cell_type": "markdown",
   "metadata": {},
   "source": [
    "We can check if the query and calculations is correct in gmaps. Remember that coordinates in MongoDB are stored on Longitude/Latitude order and Google store it in Latitude/Longitude order. So we have to search 40.4, -74.4 and 40.4404759, -74.3731727:"
   ]
  },
  {
   "cell_type": "markdown",
   "metadata": {},
   "source": [
    "![mongodb_geoNear-gmaps_measure_distance](../images/mongodb_geoNear-gmaps_measure_distance.png)"
   ]
  },
  {
   "cell_type": "markdown",
   "metadata": {},
   "source": [
    "#### Other querying examples"
   ]
  },
  {
   "cell_type": "markdown",
   "metadata": {},
   "source": [
    "- Querying a restaurant by coordinates (you must specify the doc type):"
   ]
  },
  {
   "cell_type": "code",
   "execution_count": 64,
   "metadata": {},
   "outputs": [
    {
     "data": {
      "text/plain": [
       "1"
      ]
     },
     "execution_count": 64,
     "metadata": {},
     "output_type": "execute_result"
    }
   ],
   "source": [
    "dbgeo.restaurants.find({'location': {'coordinates': [-73.856077, 40.848447], 'type': 'Point'}}).count()"
   ]
  },
  {
   "cell_type": "markdown",
   "metadata": {},
   "source": [
    "- Querying a restaurant by name:"
   ]
  },
  {
   "cell_type": "code",
   "execution_count": 65,
   "metadata": {},
   "outputs": [
    {
     "data": {
      "text/plain": [
       "1"
      ]
     },
     "execution_count": 65,
     "metadata": {},
     "output_type": "execute_result"
    }
   ],
   "source": [
    "dbgeo.restaurants.find({'name': 'Morris Park Bake Shop'}).count()"
   ]
  },
  {
   "cell_type": "markdown",
   "metadata": {
    "collapsed": true
   },
   "source": [
    "## [The Aggregation Framework](https://docs.mongodb.com/manual/aggregation/)"
   ]
  },
  {
   "cell_type": "markdown",
   "metadata": {},
   "source": [
    "Aggregation operations process data records and return computed results. Aggregation operations group values from multiple documents together, and can perform a variety of operations on the grouped data to return a single result."
   ]
  },
  {
   "cell_type": "markdown",
   "metadata": {},
   "source": [
    "### Pipeline Operators"
   ]
  },
  {
   "cell_type": "markdown",
   "metadata": {},
   "source": [
    "- **\$match**: Filter documents, standard query, uses indexes, reduce doc count, use firt.\n",
    "- **\$project**: Reshape documents, remove fields, add fields, reduce doc size, looks at every doc.\n",
    "- **\$group**: Summarize documents, sum avg etc., rewrite _id, reduce doc count, looks at every doc.\n",
    "- **\$sort**: Order documents, several sorts allowed, ascending or descending, 100mb limit, allowDiskUse\n",
    "- **\$limit/$skip**: Paginate documents\n",
    "- **\$lookup**: Join two collections together\n",
    "- **\$unwind**: Expand an array\n",
    "- **\$out**: Create new collections, \$out overwrites, only one per aggregate, last member"
   ]
  },
  {
   "cell_type": "markdown",
   "metadata": {},
   "source": [
    "#### \$match"
   ]
  },
  {
   "cell_type": "markdown",
   "metadata": {},
   "source": [
    "Let's filter all restaurant's names ending with *Express Coffee Shop*:"
   ]
  },
  {
   "cell_type": "code",
   "execution_count": 66,
   "metadata": {},
   "outputs": [
    {
     "name": "stdout",
     "output_type": "stream",
     "text": [
      "{'_id': ObjectId('55cba2476c522cafdb056982'),\n",
      " 'location': {'coordinates': [-73.99420099999999, 40.660136], 'type': 'Point'},\n",
      " 'name': 'Express Coffee Shop'}\n",
      "{'_id': ObjectId('55cba2476c522cafdb059096'),\n",
      " 'location': {'coordinates': [-73.99620399999999, 40.690177], 'type': 'Point'},\n",
      " 'name': \"Henry'S Express Coffee Shop\"}\n"
     ]
    }
   ],
   "source": [
    "match = dbgeo.restaurants.aggregate([ { \"$match\": {\"name\": { \"$regex\":\"Express Coffee Shop$\" } } } ])\n",
    "\n",
    "for doc in match:\n",
    "    pprint.pprint(doc)"
   ]
  }
 ],
 "metadata": {
  "kernelspec": {
   "display_name": "Python 3",
   "language": "python",
   "name": "python3"
  },
  "language_info": {
   "codemirror_mode": {
    "name": "ipython",
    "version": 3
   },
   "file_extension": ".py",
   "mimetype": "text/x-python",
   "name": "python",
   "nbconvert_exporter": "python",
   "pygments_lexer": "ipython3",
   "version": "3.6.1"
  }
 },
 "nbformat": 4,
 "nbformat_minor": 1
}
